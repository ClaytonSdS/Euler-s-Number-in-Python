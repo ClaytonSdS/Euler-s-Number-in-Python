{
  "nbformat": 4,
  "nbformat_minor": 0,
  "metadata": {
    "colab": {
      "provenance": [],
      "authorship_tag": "ABX9TyO2Jm9XGE596ATXBR5al0Ze",
      "include_colab_link": true
    },
    "kernelspec": {
      "name": "python3",
      "display_name": "Python 3"
    },
    "language_info": {
      "name": "python"
    }
  },
  "cells": [
    {
      "cell_type": "markdown",
      "metadata": {
        "id": "view-in-github",
        "colab_type": "text"
      },
      "source": [
        "<a href=\"https://colab.research.google.com/github/ClaytonSdS/Euler-s-Number-in-Python/blob/main/EulerNumber.ipynb\" target=\"_parent\"><img src=\"https://colab.research.google.com/assets/colab-badge.svg\" alt=\"Open In Colab\"/></a>"
      ]
    },
    {
      "cell_type": "code",
      "execution_count": null,
      "metadata": {
        "id": "zpXOF6ibkIgf"
      },
      "outputs": [],
      "source": [
        "import numpy as np\n",
        "import math\n"
      ]
    },
    {
      "cell_type": "markdown",
      "source": [
        "# Defining Taylor's Polynomial for This Problem."
      ],
      "metadata": {
        "id": "4MifGoqXmc7k"
      }
    },
    {
      "cell_type": "markdown",
      "source": [
        "$\n",
        "f(x) = e^x\n",
        "$\n",
        "\n",
        "$\n",
        "P_{n}(x) = 1 + x + \\frac{x^2}{2!} + ... + \\frac{x^n}{n!}$ ($x_0=0$)\n",
        "\n",
        "\n",
        "\n",
        "$\n",
        "e ≈ P_{n}(x)\n",
        "$\n"
      ],
      "metadata": {
        "id": "ilTJXYxzCqYm"
      }
    },
    {
      "cell_type": "code",
      "source": [
        "def P(n):\n",
        "  P_n = 1\n",
        "  for N in range (1, n+1):\n",
        "    P_n += 1 / math.factorial(N)\n",
        "\n",
        "  return P_n\n"
      ],
      "metadata": {
        "id": "AQashkZFkrsh"
      },
      "execution_count": null,
      "outputs": []
    },
    {
      "cell_type": "markdown",
      "source": [
        "### Finding the interval that contains the value of e¹."
      ],
      "metadata": {
        "id": "h2PpmAgomoBn"
      }
    },
    {
      "cell_type": "code",
      "source": [
        "def Interval(e=np.exp(1), n=1):\n",
        "  P_n = P(n)\n",
        "  while bool(e > P_n):\n",
        "    n += 1\n",
        "    P_n = P(n)\n",
        "\n",
        "  print(f\"P({n-1}) < e_python < P({n})\")"
      ],
      "metadata": {
        "id": "bdwprLAKl3ba"
      },
      "execution_count": null,
      "outputs": []
    },
    {
      "cell_type": "code",
      "source": [
        "Interval()"
      ],
      "metadata": {
        "colab": {
          "base_uri": "https://localhost:8080/"
        },
        "id": "XL1WJFt3l9wx",
        "outputId": "916d13d2-6331-40f1-ab01-8995f71c2d8b"
      },
      "execution_count": null,
      "outputs": [
        {
          "output_type": "stream",
          "name": "stdout",
          "text": [
            "P(16) < e_python < P(17)\n"
          ]
        }
      ]
    },
    {
      "cell_type": "markdown",
      "source": [
        "# Personal insights"
      ],
      "metadata": {
        "id": "-KXmZy3YmMuO"
      }
    },
    {
      "cell_type": "markdown",
      "source": [
        "What can be seen during the interval finding process is that for n > 17, Python itself does not consider the remaining terms of the Taylor Polynomial $P_{n}(x)$.\n",
        "\n",
        "> Therefore P(n) = P(17), for n ≥ 17\n",
        "\n",
        "\n",
        "#### Hypothesis: A certain number k is so small that Python itself neglects it.\n",
        "From the previous taylor's equation, we can derive that:\n",
        "$$\n",
        "P_{18} = P_{17}  + \\frac{1}{18!} = P_{17}  + k\n",
        "$$\n",
        "Where $k = \\frac{1}{18!}$.\n",
        "\n"
      ],
      "metadata": {
        "id": "I1yRHOM-mzjB"
      }
    },
    {
      "cell_type": "markdown",
      "source": [
        "Examining by Python bool() function:"
      ],
      "metadata": {
        "id": "XNX7zoNz6NVA"
      }
    },
    {
      "cell_type": "code",
      "source": [
        "k = 1/(math.factorial(18))\n",
        "bool(P(18) == (P(17)+ k))"
      ],
      "metadata": {
        "colab": {
          "base_uri": "https://localhost:8080/"
        },
        "id": "LVjoKVY_ntQy",
        "outputId": "998bf689-f3f5-4888-85ae-ea821e0dd4d5"
      },
      "execution_count": null,
      "outputs": [
        {
          "output_type": "execute_result",
          "data": {
            "text/plain": [
              "True"
            ]
          },
          "metadata": {},
          "execution_count": 27
        }
      ]
    },
    {
      "cell_type": "markdown",
      "source": [
        "But this result directly impacts the value of e and its precision.\n",
        "\n",
        "This fact can be observed in the Taylor Polynomial Error ($E_{n}$) equation.\n",
        "\n",
        "$$\n",
        "E_{n} = \\frac{f^{(n+1)}(\\overline{x})}{(n+1)!} (x-x_0)^{(n+1)} = \\frac{e^{\\overline{x}}}{(n+1)!} (1)^{(n+1)} = \\frac{e^{\\overline{x}}}{(n+1)!}\n",
        "$$\n",
        "For $\\overline{x}$ between $x_0=0$ and $x=1$.\n"
      ],
      "metadata": {
        "id": "vbYD8jxXvWeb"
      }
    },
    {
      "cell_type": "markdown",
      "source": [
        "However, the maximum value of n that we can set to obtain new numerals is 17.\n",
        "\n",
        "Therefore, our maximum theoretical error for e in this scenario is:\n",
        "$$\n",
        "E_{17} = \\frac{e^{\\overline{x}}}{18!} = k e^{\\overline{x}} ≤ 4.25*10^{-16}\n",
        "$$"
      ],
      "metadata": {
        "id": "64OwSvuXytqk"
      }
    }
  ]
}